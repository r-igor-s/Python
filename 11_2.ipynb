{
 "cells": [
  {
   "cell_type": "code",
   "execution_count": null,
   "id": "ddd83962-8ffe-4c01-8e2b-af2353936ec2",
   "metadata": {},
   "outputs": [],
   "source": [
    "from scipy import integrate \n",
    "import numpy as np\n",
    "\n",
    "eps = 0.001\n",
    "a = 1.4  # Межа початку інтегрування\n",
    "b = 2.6  # Межа кінця інтегрування\n",
    "n = 10   # Кількість підрозділень\n",
    "\n",
    "def f2(x):\n",
    "    return 1 / np.sqrt(1.5 + 0.2*x)\n",
    "\n",
    "def left_rec(f, a, b, n):\n",
    "    h = (b - a) / n\n",
    "    s = sum(f(a + i * h) for i in range(n))\n",
    "    return h * s\n",
    "\n",
    "def right_rec(f, a, b, n):\n",
    "    h = (b - a) / n\n",
    "    s = sum(f(a + (i + 1) * h) for i in range(n))\n",
    "    return h * s\n",
    "\n",
    "def aver_rec(f, a, b, n):\n",
    "    h = (b - a) / n\n",
    "    s = sum(f(a + i * h + 0.5 * h) for i in range(n))\n",
    "    return h * s\n",
    "\n",
    "# Використовуємо вашу функцію і межі\n",
    "v, err = integrate.quad(f2, a, b)\n",
    "\n",
    "# Перевірка точності за правилом Рунге:\n",
    "if abs(left_rec(f2, a, b, 2*n) - left_rec(f2, a, b, n)) / 3. <= eps:\n",
    "    print(\"left rectangle:\", round(left_rec(f2, a, b, n), 5))\n",
    "\n",
    "print(\"right rectangle:\", round(right_rec(f2, a, b, n), 5))\n",
    "print(\"average rectangle:\", round(aver_rec(f2, a, b, n), 5))\n",
    "print(\"Check for the rectangle method =\", round(v, 5))\n"
   ]
  }
 ],
 "metadata": {
  "kernelspec": {
   "display_name": "Python 3 (ipykernel)",
   "language": "python",
   "name": "python3"
  },
  "language_info": {
   "codemirror_mode": {
    "name": "ipython",
    "version": 3
   },
   "file_extension": ".py",
   "mimetype": "text/x-python",
   "name": "python",
   "nbconvert_exporter": "python",
   "pygments_lexer": "ipython3",
   "version": "3.10.7"
  }
 },
 "nbformat": 4,
 "nbformat_minor": 5
}
