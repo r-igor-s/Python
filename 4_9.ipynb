{
 "cells": [
  {
   "cell_type": "code",
   "execution_count": 6,
   "id": "6fbd64a2-b098-403f-834c-3d3e808ae7f4",
   "metadata": {},
   "outputs": [
    {
     "name": "stdout",
     "output_type": "stream",
     "text": [
      "[[64  8 13 54]\n",
      " [57 61 75 95]\n",
      " [49 51 72 42]\n",
      " [31 57  8 31]\n",
      " [49 19 32 50]]\n",
      "Стовпець з максимальною сумою абсолютних значень елементів: 3\n",
      "Найменший елемент у цьому стовпці: 31\n"
     ]
    }
   ],
   "source": [
    "import numpy as np\n",
    "\n",
    "N = 5\n",
    "M = 4\n",
    "\n",
    "A = np.random.randint(1, 100, size=(N, M))\n",
    "\n",
    "sums = np.sum(np.abs(A), axis=0)\n",
    "max_col_index = np.argmax(sums)\n",
    "\n",
    "min_element = np.min(A[:, max_col_index])\n",
    "\n",
    "print(A)\n",
    "print(\"Стовпець з максимальною сумою абсолютних значень елементів:\", max_col_index)\n",
    "print(\"Найменший елемент у цьому стовпці:\", min_element)"
   ]
  },
  {
   "cell_type": "code",
   "execution_count": null,
   "id": "31cc4425-fd2c-4bd5-b9e6-f44938cf4173",
   "metadata": {},
   "outputs": [],
   "source": []
  }
 ],
 "metadata": {
  "kernelspec": {
   "display_name": "Python 3 (ipykernel)",
   "language": "python",
   "name": "python3"
  },
  "language_info": {
   "codemirror_mode": {
    "name": "ipython",
    "version": 3
   },
   "file_extension": ".py",
   "mimetype": "text/x-python",
   "name": "python",
   "nbconvert_exporter": "python",
   "pygments_lexer": "ipython3",
   "version": "3.11.5"
  }
 },
 "nbformat": 4,
 "nbformat_minor": 5
}
