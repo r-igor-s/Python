{
 "cells": [
  {
   "cell_type": "code",
   "execution_count": 10,
   "id": "49a0fd00-65bf-41ce-9497-44529140cea0",
   "metadata": {},
   "outputs": [
    {
     "name": "stdout",
     "output_type": "stream",
     "text": [
      "Корінь рівняння: 0.8056331000357185\n"
     ]
    }
   ],
   "source": [
    "def f(x): \n",
    "    return 2*x**4 + 4*x**3 + x**2 + 3*x - 6 \n",
    "\n",
    "def derivative(x):\n",
    "    return 8*x**3 + 12*x**2 + 2*x + 3\n",
    "  \n",
    "x0 = 1.0\n",
    "max_iterations = 100\n",
    "eps = 0.0001\n",
    "\n",
    "def nuton(f, derivative, x0, eps1, max_iter):\n",
    "    x = x0\n",
    "    for i in range(max_iter):\n",
    "        x = x - f(x) / derivative(x)\n",
    "        if abs(f(x)) < eps1:\n",
    "            return x\n",
    "    return None\n",
    "    \n",
    "root = nuton(f, derivative, x0, eps, max_iterations)    \n",
    "if root is not None:\n",
    "    print(\"Корінь рівняння:\", root)\n"
   ]
  },
  {
   "cell_type": "code",
   "execution_count": null,
   "id": "5b736fd1-308f-44d5-9e66-f3f24c19f333",
   "metadata": {},
   "outputs": [],
   "source": []
  },
  {
   "cell_type": "code",
   "execution_count": null,
   "id": "8e8d9566-4df4-41b3-87d3-40fb55600def",
   "metadata": {},
   "outputs": [],
   "source": []
  }
 ],
 "metadata": {
  "kernelspec": {
   "display_name": "Python 3 (ipykernel)",
   "language": "python",
   "name": "python3"
  },
  "language_info": {
   "codemirror_mode": {
    "name": "ipython",
    "version": 3
   },
   "file_extension": ".py",
   "mimetype": "text/x-python",
   "name": "python",
   "nbconvert_exporter": "python",
   "pygments_lexer": "ipython3",
   "version": "3.11.5"
  }
 },
 "nbformat": 4,
 "nbformat_minor": 5
}
