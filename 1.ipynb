{
 "cells": [
  {
   "cell_type": "code",
   "execution_count": null,
   "id": "2d2378f8-f7ae-48e8-9768-0944b8dcf17d",
   "metadata": {},
   "outputs": [],
   "source": [
    "import sympy as sp\n",
    "\n",
    "x = sp.symbols('x')\n",
    "equation = 8*x**3 + 12*x**2 + 2*x + 3\n",
    "\n",
    "roots = sp.solve(equation, x)\n",
    "print(\"Корені рівняння:\")\n",
    "for root in roots:\n",
    "    print(root)\n"
   ]
  }
 ],
 "metadata": {
  "kernelspec": {
   "display_name": "Python 3 (ipykernel)",
   "language": "python",
   "name": "python3"
  },
  "language_info": {
   "codemirror_mode": {
    "name": "ipython",
    "version": 3
   },
   "file_extension": ".py",
   "mimetype": "text/x-python",
   "name": "python",
   "nbconvert_exporter": "python",
   "pygments_lexer": "ipython3",
   "version": "3.11.5"
  }
 },
 "nbformat": 4,
 "nbformat_minor": 5
}
