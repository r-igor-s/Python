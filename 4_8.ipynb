{
 "cells": [
  {
   "cell_type": "code",
   "execution_count": 8,
   "id": "c6a68ceb-1a3b-49c4-a446-fc717db5eb54",
   "metadata": {},
   "outputs": [
    {
     "name": "stdout",
     "output_type": "stream",
     "text": [
      "Solving a system of linear algebraic equations by Cramer's method\n",
      "x = 2.0 y = -1.0 z = 1.0\n",
      "Checking the correctness of the solution\n",
      " [[ 2.]\n",
      " [-1.]\n",
      " [ 1.]]\n"
     ]
    }
   ],
   "source": [
    "import numpy as np\n",
    "\n",
    "A = np.array([[3, 2, 1],\n",
    "              [2, -1, 1],\n",
    "              [1, 5, 0]])\n",
    "\n",
    "B = np.array([[5],\n",
    "              [6],\n",
    "              [-3]])\n",
    "\n",
    "def kram(a, b):\n",
    "    det_a = np.linalg.det(a)\n",
    "    if det_a != 0:\n",
    "        a1 = np.matrix(a)\n",
    "        a2 = np.matrix(a)\n",
    "        a3 = np.matrix(a)\n",
    "        a1[:, 0] = b\n",
    "        a2[:, 1] = b\n",
    "        a3[:, 2] = b\n",
    "        x = np.linalg.det(a1) / det_a\n",
    "        y = np.linalg.det(a2) / det_a\n",
    "        z = np.linalg.det(a3) / det_a\n",
    "        print('Solving a system of linear algebraic equations by Cramer\\'s method')\n",
    "        print('x =', x.round(3), 'y =', y.round(3), 'z =', z.round(3)) \n",
    "    else:\n",
    "        print('Determinant equals zero, the system has no solutions')\n",
    "    return x, y, z\n",
    "\n",
    "kram(a, b)\n",
    "print('Checking the correctness of the solution\\n', np.linalg.solve(a, b).round(3))"
   ]
  },
  {
   "cell_type": "code",
   "execution_count": null,
   "id": "f1790dd4-2f86-4afe-ab79-08bc12a944d7",
   "metadata": {},
   "outputs": [],
   "source": []
  }
 ],
 "metadata": {
  "kernelspec": {
   "display_name": "Python 3 (ipykernel)",
   "language": "python",
   "name": "python3"
  },
  "language_info": {
   "codemirror_mode": {
    "name": "ipython",
    "version": 3
   },
   "file_extension": ".py",
   "mimetype": "text/x-python",
   "name": "python",
   "nbconvert_exporter": "python",
   "pygments_lexer": "ipython3",
   "version": "3.11.5"
  }
 },
 "nbformat": 4,
 "nbformat_minor": 5
}
