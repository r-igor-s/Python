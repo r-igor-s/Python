{
 "cells": [
  {
   "cell_type": "code",
   "execution_count": 1,
   "id": "bc27e41c-cef6-4fc1-a258-af6b800f14d6",
   "metadata": {},
   "outputs": [
    {
     "name": "stdout",
     "output_type": "stream",
     "text": [
      "900.0000000000009\n"
     ]
    }
   ],
   "source": [
    "import numpy as np\n",
    "\n",
    "A = np.array([[1, 2, 3, 4],\n",
    "              [-2, 1, -4, 3],\n",
    "              [3, -4, -1, 2],\n",
    "              [4, 3, -2, -1]])\n",
    "\n",
    "det = np.linalg.det(A)\n",
    "\n",
    "print(det)"
   ]
  },
  {
   "cell_type": "code",
   "execution_count": null,
   "id": "e00bc6b1-02f0-48f7-831b-f931a1d0d80f",
   "metadata": {},
   "outputs": [],
   "source": []
  }
 ],
 "metadata": {
  "kernelspec": {
   "display_name": "Python 3 (ipykernel)",
   "language": "python",
   "name": "python3"
  },
  "language_info": {
   "codemirror_mode": {
    "name": "ipython",
    "version": 3
   },
   "file_extension": ".py",
   "mimetype": "text/x-python",
   "name": "python",
   "nbconvert_exporter": "python",
   "pygments_lexer": "ipython3",
   "version": "3.11.5"
  }
 },
 "nbformat": 4,
 "nbformat_minor": 5
}
