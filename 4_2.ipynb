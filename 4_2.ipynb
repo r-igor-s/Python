{
 "cells": [
  {
   "cell_type": "code",
   "execution_count": 3,
   "id": "03c1d27e-ea01-449b-99d9-2b5e29586ff8",
   "metadata": {},
   "outputs": [
    {
     "name": "stdout",
     "output_type": "stream",
     "text": [
      "[[1 0]\n",
      " [0 1]]\n"
     ]
    }
   ],
   "source": [
    "import numpy as np\n",
    "\n",
    "A = np.array([[-1, 2],\n",
    "              [0, 1]])\n",
    "\n",
    "A_sq = np.dot(A, A)\n",
    "\n",
    "print(A_sq)"
   ]
  },
  {
   "cell_type": "code",
   "execution_count": null,
   "id": "c3219d71-888f-4a03-85d8-a8ce18cad6c0",
   "metadata": {},
   "outputs": [],
   "source": []
  }
 ],
 "metadata": {
  "kernelspec": {
   "display_name": "Python 3 (ipykernel)",
   "language": "python",
   "name": "python3"
  },
  "language_info": {
   "codemirror_mode": {
    "name": "ipython",
    "version": 3
   },
   "file_extension": ".py",
   "mimetype": "text/x-python",
   "name": "python",
   "nbconvert_exporter": "python",
   "pygments_lexer": "ipython3",
   "version": "3.11.5"
  }
 },
 "nbformat": 4,
 "nbformat_minor": 5
}
