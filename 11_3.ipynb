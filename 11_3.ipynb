{
 "cells": [
  {
   "cell_type": "code",
   "execution_count": 7,
   "id": "90c4c7ef-034f-430d-a4f2-2cf95360ead9",
   "metadata": {},
   "outputs": [
    {
     "name": "stdout",
     "output_type": "stream",
     "text": [
      "Trapezoidal method: 0.61544\n",
      "Checkfor the trapetzia method = 0.63689\n"
     ]
    }
   ],
   "source": [
    "from scipy import integrate\n",
    "import numpy as np\n",
    "\n",
    "# Задаємо функцію, яку необхідно інтегрувати\n",
    "def f(x):\n",
    "    return 1 / np.sqrt(0.5 + x**2)\n",
    "\n",
    "# Задаємо межі інтегрування та кількість розбиттів\n",
    "a = 1.2\n",
    "b = 2.4\n",
    "n = 20\n",
    "\n",
    "# Обчислюємо значення інтегралу методом трапецій\n",
    "def trapezoidal_rule(f, a, b, n):\n",
    "    h = (b - a) / n\n",
    "    x = a\n",
    "    integral_sum = 0\n",
    "\n",
    "    for i in range(1, n):\n",
    "        x += h\n",
    "        integral_sum += 2 * f(x)\n",
    "\n",
    "    integral_sum += f(b)\n",
    "    result = h / 2 * integral_sum\n",
    "    return result\n",
    "\n",
    "# Обчислюємо значення інтегралу методом трапецій з умовою n=20\n",
    "integral_result = trapezoidal_rule(f, a, b, n)\n",
    "\n",
    "# Виводимо результат\n",
    "print(\"Trapezoidal method:\", round(integral_result, 5))\n",
    "\n",
    "# Перевірка\n",
    "check_result, _ = integrate.quad(f, a, b)\n",
    "print(\"Checkfor the trapetzia method =\", round(check_result, 5))"
   ]
  },
  {
   "cell_type": "code",
   "execution_count": null,
   "id": "b5feed90-f948-4ba8-9bf5-a064abcaadbb",
   "metadata": {},
   "outputs": [],
   "source": []
  }
 ],
 "metadata": {
  "kernelspec": {
   "display_name": "Python 3 (ipykernel)",
   "language": "python",
   "name": "python3"
  },
  "language_info": {
   "codemirror_mode": {
    "name": "ipython",
    "version": 3
   },
   "file_extension": ".py",
   "mimetype": "text/x-python",
   "name": "python",
   "nbconvert_exporter": "python",
   "pygments_lexer": "ipython3",
   "version": "3.10.7"
  }
 },
 "nbformat": 4,
 "nbformat_minor": 5
}
