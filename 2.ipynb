{
 "cells": [
  {
   "cell_type": "code",
   "execution_count": null,
   "id": "5f57ec40-216c-4ed7-a2d7-4f9c247092a0",
   "metadata": {},
   "outputs": [],
   "source": [
    "def equation(x):\n",
    "    return 2*x**4 + 4*x**3 + x**2 + 3*x - 6\n",
    "\n",
    "def rec(a, b, ebs):\n",
    "    while (b - a) / 2.0 > ebs:\n",
    "        midpoint = (a + b) / 2.0\n",
    "        if equation(midpoint) == 0:\n",
    "            return midpoint\n",
    "        elif equation(a) * equation(midpoint) < 0:\n",
    "            b = midpoint\n",
    "        else:\n",
    "            a = midpoint\n",
    "    return (a + b) / 2.0\n",
    "\n",
    "interval = (-2, 2)\n",
    "\n",
    "ebs1 = 0.0001\n",
    "\n",
    "root = rec(interval[0], interval[1], ebs1)\n",
    "\n",
    "print(\"Корінь рівняння:\", root)\n"
   ]
  },
  {
   "cell_type": "code",
   "execution_count": null,
   "id": "6ea5a602-0a54-43bf-82f8-7c76528fc389",
   "metadata": {},
   "outputs": [],
   "source": []
  }
 ],
 "metadata": {
  "kernelspec": {
   "display_name": "",
   "name": ""
  },
  "language_info": {
   "name": ""
  }
 },
 "nbformat": 4,
 "nbformat_minor": 5
}
