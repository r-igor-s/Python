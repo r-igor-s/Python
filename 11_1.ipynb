{
 "cells": [
  {
   "cell_type": "code",
   "execution_count": null,
   "id": "433b696e-07f0-4cb0-a35c-3686aebdc2d8",
   "metadata": {},
   "outputs": [],
   "source": [
    "from scipy import integrate\n",
    "import numpy as np\n",
    "\n",
    "# Задаємо нову функцію, яку необхідно інтегрувати\n",
    "def g(x):\n",
    "    return np.sin(x**2 - 4) / (x + 2)\n",
    "\n",
    "# Задаємо нові межі інтегрування та кількість розбиттів\n",
    "a_new = 0.8\n",
    "b_new = 1.2\n",
    "n_new = 8\n",
    "\n",
    "# Обчислюємо значення інтегралу методом Сімпсона\n",
    "def simpson_rule_new(f, a, b, n):\n",
    "    h = (b - a) / n \n",
    "    integr = f(a) + f(b) \n",
    "    for i in range(1, n): \n",
    "        k = a + i * h \n",
    "        if i % 2 == 0: \n",
    "            integr += 2 * f(k) \n",
    "        else: \n",
    "            integr += 4 * f(k) \n",
    "    integr *= h / 3 \n",
    "    return integr \n",
    "\n",
    "# Обчислюємо значення інтегралу методом Сімпсона з заданими параметрами\n",
    "integral_new = simpson_rule_new(g, a_new, b_new, n_new)\n",
    "\n",
    "# Виводимо результат\n",
    "print(\"Simpsone method:\", round(integral_new, 3))\n",
    "\n",
    "# Перевірка за допомогою вбудованої функції quad з бібліотеки scipy\n",
    "v, err = integrate.quad(g, a_new, b_new)\n",
    "print(\"Check for the simpsone method =\", round(v, 3))\n"
   ]
  }
 ],
 "metadata": {
  "kernelspec": {
   "display_name": "Python 3 (ipykernel)",
   "language": "python",
   "name": "python3"
  },
  "language_info": {
   "codemirror_mode": {
    "name": "ipython",
    "version": 3
   },
   "file_extension": ".py",
   "mimetype": "text/x-python",
   "name": "python",
   "nbconvert_exporter": "python",
   "pygments_lexer": "ipython3",
   "version": "3.10.7"
  }
 },
 "nbformat": 4,
 "nbformat_minor": 5
}
