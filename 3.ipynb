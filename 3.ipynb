{
 "cells": [
  {
   "cell_type": "code",
   "execution_count": 22,
   "id": "211c3b07-79e6-4a30-9b52-2324a653b426",
   "metadata": {},
   "outputs": [
    {
     "name": "stdout",
     "output_type": "stream",
     "text": [
      "Корінь рівняння: 0.8056310886152124\n"
     ]
    }
   ],
   "source": [
    "def equation(x):\n",
    "    return 2*x**4 + 4*x**3 + x**2 + 3*x - 6\n",
    "\n",
    "def derivative(x):\n",
    "    return 8*x**3 + 12*x**2 + 2*x + 3\n",
    "\n",
    "def hord(x0, x1, ebs, max_iter):\n",
    "    iteration = 0\n",
    "    \n",
    "    while abs(equation(x1)) > ebs and iteration < max_iter:\n",
    "        x2 = x1 - (x1 - x0) * equation(x1) / (equation(x1) - equation(x0))\n",
    "        x0 = x1\n",
    "        x1 = x2\n",
    "        iteration += 1\n",
    "    \n",
    "    return x1\n",
    "    \n",
    "init_guess1 = -1\n",
    "init_guess2 = 0\n",
    "ebs1 = 0.0001\n",
    "max_iterations = 1000\n",
    "root = hord(init_guess1, init_guess2, ebs1, max_iterations)\n",
    "\n",
    "print(\"Корінь рівняння:\", root)"
   ]
  },
  {
   "cell_type": "code",
   "execution_count": null,
   "id": "c27945e6-a732-4456-a1dc-c0fae0ae20f1",
   "metadata": {},
   "outputs": [],
   "source": []
  },
  {
   "cell_type": "code",
   "execution_count": null,
   "id": "ed82b9a0-d2c9-480c-8eb7-965af73e05ab",
   "metadata": {},
   "outputs": [],
   "source": []
  }
 ],
 "metadata": {
  "kernelspec": {
   "display_name": "Python 3 (ipykernel)",
   "language": "python",
   "name": "python3"
  },
  "language_info": {
   "codemirror_mode": {
    "name": "ipython",
    "version": 3
   },
   "file_extension": ".py",
   "mimetype": "text/x-python",
   "name": "python",
   "nbconvert_exporter": "python",
   "pygments_lexer": "ipython3",
   "version": "3.11.5"
  }
 },
 "nbformat": 4,
 "nbformat_minor": 5
}
