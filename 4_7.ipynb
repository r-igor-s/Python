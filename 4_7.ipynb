{
 "cells": [
  {
   "cell_type": "code",
   "execution_count": 1,
   "id": "5f878676-fc26-469c-967f-acb23f924751",
   "metadata": {},
   "outputs": [
    {
     "name": "stdout",
     "output_type": "stream",
     "text": [
      "2\n"
     ]
    }
   ],
   "source": [
    "import numpy as np\n",
    "\n",
    "A = np.array([[1, 2, 3, 4],\n",
    "              [3, -1, 2, 5],\n",
    "              [1, 2, 3, 4],\n",
    "              [1, 3, 4, 5]])\n",
    "\n",
    "A_rank = np.linalg.matrix_rank(A)\n",
    "\n",
    "print(A_rank)"
   ]
  },
  {
   "cell_type": "code",
   "execution_count": null,
   "id": "6953fc92-2633-4246-bd96-ddccc85f3cb6",
   "metadata": {},
   "outputs": [],
   "source": []
  }
 ],
 "metadata": {
  "kernelspec": {
   "display_name": "Python 3 (ipykernel)",
   "language": "python",
   "name": "python3"
  },
  "language_info": {
   "codemirror_mode": {
    "name": "ipython",
    "version": 3
   },
   "file_extension": ".py",
   "mimetype": "text/x-python",
   "name": "python",
   "nbconvert_exporter": "python",
   "pygments_lexer": "ipython3",
   "version": "3.11.5"
  }
 },
 "nbformat": 4,
 "nbformat_minor": 5
}
