{
 "cells": [
  {
   "cell_type": "code",
   "execution_count": 2,
   "id": "fca51bea-cafd-4894-803d-f56c5a5cb751",
   "metadata": {},
   "outputs": [
    {
     "name": "stdout",
     "output_type": "stream",
     "text": [
      "For i = 0, x = 0, y = 1.0\n",
      "For i = 1, x = 1, y = 2.3678794411714423\n",
      "For i = 2, x = 2, y = 4.135335283236612\n",
      "For i = 3, x = 3, y = 6.049787068367864\n",
      "For i = 4, x = 4, y = 8.018315638888733\n",
      "For i = 5, x = 5, y = 10.006737946999085\n",
      "For i = 6, x = 6, y = 12.002478752176666\n",
      "For i = 7, x = 7, y = 14.000911881965555\n",
      "For i = 8, x = 8, y = 16.000335462627902\n",
      "For i = 9, x = 9, y = 18.000123409804086\n"
     ]
    }
   ],
   "source": [
    "import math\n",
    "\n",
    "def f(x):\n",
    "    return math.exp(-x) + 2 * x\n",
    "\n",
    "for i in range(10):\n",
    "    x = i\n",
    "    y = f(x)\n",
    "    print(f\"For i = {i}, x = {x}, y = {y}\")"
   ]
  },
  {
   "cell_type": "code",
   "execution_count": null,
   "id": "d5363e08-eb91-4a4a-a53c-1073aaac2f5e",
   "metadata": {},
   "outputs": [],
   "source": []
  }
 ],
 "metadata": {
  "kernelspec": {
   "display_name": "Python 3 (ipykernel)",
   "language": "python",
   "name": "python3"
  },
  "language_info": {
   "codemirror_mode": {
    "name": "ipython",
    "version": 3
   },
   "file_extension": ".py",
   "mimetype": "text/x-python",
   "name": "python",
   "nbconvert_exporter": "python",
   "pygments_lexer": "ipython3",
   "version": "3.12.0"
  }
 },
 "nbformat": 4,
 "nbformat_minor": 5
}
