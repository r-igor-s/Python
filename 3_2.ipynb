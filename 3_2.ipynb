{
 "cells": [
  {
   "cell_type": "code",
   "execution_count": 8,
   "id": "7ab5a328-9c77-471f-980b-d5368b3059d8",
   "metadata": {},
   "outputs": [
    {
     "name": "stdout",
     "output_type": "stream",
     "text": [
      "Знайдений корінь рівняння: 0.805631318079592\n"
     ]
    }
   ],
   "source": [
    "def f(x):\n",
    "    return 2*x**4 + 4*x**3 + x**2 + 3*x - 6\n",
    "\n",
    "def derivative(x):\n",
    "    return 8*x**3 + 12*x**2 + 2*x + 3\n",
    "\n",
    "def rec(f, a, b, ebs1):\n",
    "    while (b - a) / 2 > ebs1:\n",
    "        c = (a + b) / 2\n",
    "        if f(c) == 0:\n",
    "            return c\n",
    "        elif f(c) * f(a) < 0:\n",
    "            b = c\n",
    "        else:\n",
    "            a = c\n",
    "    return (a + b) / 2\n",
    "\n",
    "def komb(f, derivative, a, b, ebs1, max_iter):\n",
    "    approx_root = rec(f, a, b, ebs1)\n",
    "    \n",
    "    if approx_root is None:\n",
    "        return None\n",
    "    \n",
    "    x = approx_root\n",
    "    for i in range(max_iter):\n",
    "        x = x - f(x) / derivative(x)\n",
    "        if abs(f(x)) < ebs1:\n",
    "            return x\n",
    "    return None\n",
    "\n",
    "a = -2.0\n",
    "b = 2.0\n",
    "\n",
    "ebs = 0.0001\n",
    "max_iterations = 100\n",
    "\n",
    "root = komb(f, derivative, a, b, ebs, max_iterations)\n",
    "\n",
    "if root is not None:\n",
    "    print(\"Знайдений корінь рівняння:\", root)"
   ]
  },
  {
   "cell_type": "code",
   "execution_count": null,
   "id": "40d179b5-7364-4a9d-b55d-1e4b8ddf55b7",
   "metadata": {},
   "outputs": [],
   "source": []
  }
 ],
 "metadata": {
  "kernelspec": {
   "display_name": "Python 3 (ipykernel)",
   "language": "python",
   "name": "python3"
  },
  "language_info": {
   "codemirror_mode": {
    "name": "ipython",
    "version": 3
   },
   "file_extension": ".py",
   "mimetype": "text/x-python",
   "name": "python",
   "nbconvert_exporter": "python",
   "pygments_lexer": "ipython3",
   "version": "3.11.5"
  }
 },
 "nbformat": 4,
 "nbformat_minor": 5
}
